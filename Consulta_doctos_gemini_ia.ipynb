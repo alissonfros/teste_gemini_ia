{
 "cells": [
  {
   "cell_type": "markdown",
   "metadata": {
    "id": "xdTGQ-hggL-f"
   },
   "source": [
    "#PROJETO BASE:\n",
    "Este projeto é baseado no código desenvolvido por Anderson Carvalho. Projeto Original: https://github.com/anderoak/projeto_consultor_ai\n",
    "\n",
    "#Consulta documentos de IA\n",
    "Este notebook demonstra um projeto que combina a API Gemini com embeddings para criar um chatbot capaz de responder perguntas sobre o conteúdo de documentos e buscar informações relevantes em uma base de documentos PDF."
   ]
  },
  {
   "cell_type": "markdown",
   "metadata": {
    "id": "5DnHT-AXieBN"
   },
   "source": [
    "###Instruções para Utilização"
   ]
  },
  {
   "cell_type": "markdown",
   "metadata": {
    "id": "rFa08CP3hQNF"
   },
   "source": [
    "-  Adicione a sua chave de API do Google AI no Secrets, na barra lateral esquerda do Colab, definindo com o nome: GEMINI_API_KEY.\n",
    "-  Crie uma pasta chamada PDF no ambiente Colab. Você pode fazer clicando no ícone arquivos na lateral esquerda do Colab, depois clicando com o botão direito no espaço em branco e selecionando \"Nova pasta\".\n",
    "- Depois faça upload dos seus arquivos PDF e arraste-os para dentro da pasta PDF que criou. Leve em conta que a API do Gemini pode limitar de quantidade de dados carregados dos PDF se você está usando a versão gratuita da API, então use apenas um ou dois arquivos pequenos (deixei 2 arquivos que usei para testar no [repositório do GitHub](https://github.com/anderoak/projeto_consultor_ai), na pasta \"PDFs para teste\").\n",
    "- Garanta que os arquivos na pasta sejam realmente PDFs. Atente que esse projeto assume que os PDFs contêm texto extraível, portanto não irá funcionar com PDFs que são apenas imagens digitalizadas, pois exigiria técnicas de OCR (Optical Character Recognition) para extrair o texto.\n",
    "-  Execute o código célula por célula.\n",
    "-  Interaja com o chatbot fazendo perguntas sobre o conteúdo dos PDFs.\n",
    "-  Digite \"sair\" para encerrar o chat.\n",
    "\n",
    "Observação: Este é um exemplo básico genérico, mas que talvez possa se aprimorado adicionando mais funcionalidades, como especialização por área e uma interface web."
   ]
  },
  {
   "cell_type": "markdown",
   "metadata": {
    "id": "LYz5FPpeiLcQ"
   },
   "source": [
    "##1. Instalação de Bibliotecas"
   ]
  },
  {
   "cell_type": "code",
   "execution_count": 1,
   "metadata": {
    "colab": {
     "base_uri": "https://localhost:8080/"
    },
    "executionInfo": {
     "elapsed": 10446,
     "status": "ok",
     "timestamp": 1732909188458,
     "user": {
      "displayName": "Alisson Frós",
      "userId": "17836051836238188094"
     },
     "user_tz": 180
    },
    "id": "wjfR2v39gIp4",
    "outputId": "af054b78-77dc-4771-ec14-b3b82fbab7ce"
   },
   "outputs": [
    {
     "name": "stdout",
     "output_type": "stream",
     "text": [
      "\u001b[?25l   \u001b[90m━━━━━━━━━━━━━━━━━━━━━━━━━━━━━━━━━━━━━━━━\u001b[0m \u001b[32m0.0/232.6 kB\u001b[0m \u001b[31m?\u001b[0m eta \u001b[36m-:--:--\u001b[0m\r\u001b[2K   \u001b[91m━━━━━━━━━━━━━━━━━━━━━━━━━━━━━━━━━━━━━━\u001b[0m\u001b[91m╸\u001b[0m\u001b[90m━\u001b[0m \u001b[32m225.3/232.6 kB\u001b[0m \u001b[31m7.9 MB/s\u001b[0m eta \u001b[36m0:00:01\u001b[0m\r\u001b[2K   \u001b[90m━━━━━━━━━━━━━━━━━━━━━━━━━━━━━━━━━━━━━━━━\u001b[0m \u001b[32m232.6/232.6 kB\u001b[0m \u001b[31m3.9 MB/s\u001b[0m eta \u001b[36m0:00:00\u001b[0m\n",
      "\u001b[?25h"
     ]
    }
   ],
   "source": [
    "# Instala as bibliotecas necessárias\n",
    "!pip install -q -U google-generativeai pypdf2\n",
    "\n",
    "# Importa as bibliotecas\n",
    "import google.generativeai as genai\n",
    "from google.colab import userdata\n",
    "import numpy as np\n",
    "import PyPDF2\n",
    "\n",
    "# Lê a API Key do Secrets do Colab\n",
    "GOOGLE_API_KEY = userdata.get('GEMINI_API_KEY')\n",
    "genai.configure(api_key=GOOGLE_API_KEY)"
   ]
  },
  {
   "cell_type": "markdown",
   "metadata": {
    "id": "mK8oR23Aj4ej"
   },
   "source": [
    "## Funções para processar PDFs"
   ]
  },
  {
   "cell_type": "code",
   "execution_count": 3,
   "metadata": {
    "executionInfo": {
     "elapsed": 434,
     "status": "ok",
     "timestamp": 1732909267211,
     "user": {
      "displayName": "Alisson Frós",
      "userId": "17836051836238188094"
     },
     "user_tz": 180
    },
    "id": "NDLkdWUOjiW-"
   },
   "outputs": [],
   "source": [
    "def extrair_texto_pdf(caminho_arquivo):\n",
    "  \"\"\"\n",
    "  Extrai o texto de um arquivo PDF.\n",
    "  \"\"\"\n",
    "  with open(caminho_arquivo, 'rb') as arquivo_pdf:\n",
    "    leitor_pdf = PyPDF2.PdfReader(arquivo_pdf)\n",
    "    texto = \"\"\n",
    "    for num_pagina in range(len(leitor_pdf.pages)):\n",
    "      pagina = leitor_pdf.pages[num_pagina]\n",
    "      texto += pagina.extract_text()\n",
    "    return texto\n",
    "\n",
    "def carregar_documentos_pdf(pasta_colab='./'):\n",
    "  \"\"\"\n",
    "  Carrega os arquivos PDF de uma pasta no Colab e extrai o texto.\n",
    "  \"\"\"\n",
    "  import os\n",
    "  arquivos_pdf = [os.path.join(pasta_colab, arquivo)\n",
    "                   for arquivo in os.listdir(pasta_colab)\n",
    "                   if arquivo.endswith('.pdf')]\n",
    "\n",
    "  # Extrai o texto de cada arquivo PDF\n",
    "  documentos = [extrair_texto_pdf(arquivo) for arquivo in arquivos_pdf]\n",
    "  return documentos"
   ]
  },
  {
   "cell_type": "markdown",
   "metadata": {
    "id": "KJEi0ZpeghZT"
   },
   "source": [
    "##2. Configuração do Modelo Gemini"
   ]
  },
  {
   "cell_type": "code",
   "execution_count": 4,
   "metadata": {
    "executionInfo": {
     "elapsed": 463,
     "status": "ok",
     "timestamp": 1732909271228,
     "user": {
      "displayName": "Alisson Frós",
      "userId": "17836051836238188094"
     },
     "user_tz": 180
    },
    "id": "nCpf1WXzgkj7"
   },
   "outputs": [],
   "source": [
    "# Configura os parâmetros do modelo Gemini\n",
    "generation_config = {\n",
    "    \"candidate_count\": 1,  # Número de respostas a serem geradas\n",
    "    \"temperature\": 0.5,   # Controla a criatividade das respostas\n",
    "}\n",
    "\n",
    "# Configura os parâmetros de segurança\n",
    "safety_settings = {\n",
    "    \"HARASSMENT\": \"BLOCK_NONE\",\n",
    "    \"HATE\": \"BLOCK_NONE\",\n",
    "    \"SEXUAL\": \"BLOCK_NONE\",\n",
    "    \"DANGEROUS\": \"BLOCK_NONE\",\n",
    "}\n",
    "\n",
    "# Inicializa o modelo Gemini\n",
    "model = genai.GenerativeModel(model_name='gemini-1.5-flash',\n",
    "                              generation_config=generation_config,\n",
    "                              safety_settings=safety_settings)\n",
    "\n",
    "# Define o modelo de embedding\n",
    "embedding_model = \"models/embedding-001\""
   ]
  },
  {
   "cell_type": "markdown",
   "metadata": {
    "id": "eHdRXrwPgnsr"
   },
   "source": [
    "##3. Carregamento da Base de Dados e Embeddings"
   ]
  },
  {
   "cell_type": "code",
   "execution_count": 5,
   "metadata": {
    "executionInfo": {
     "elapsed": 179636,
     "status": "ok",
     "timestamp": 1732909454634,
     "user": {
      "displayName": "Alisson Frós",
      "userId": "17836051836238188094"
     },
     "user_tz": 180
    },
    "id": "IoUKz8EUg1o7"
   },
   "outputs": [],
   "source": [
    "# Carrega os documentos da pasta do Colab\n",
    "documentos = carregar_documentos_pdf()\n",
    "\n",
    "# Função para dividir o texto em chunks menores\n",
    "def dividir_texto_em_chunks(texto, tamanho_chunk=5000): # tamanho do chunk em caracteres\n",
    "  \"\"\"Divide um texto em chunks menores.\"\"\"\n",
    "  return [texto[i:i + tamanho_chunk] for i in range(0, len(texto), tamanho_chunk)]\n",
    "\n",
    "# Gera embeddings para os documentos usando Gemini, dividindo em chunks se necessário\n",
    "embeddings_documentos = []\n",
    "for documento in documentos:\n",
    "  chunks = dividir_texto_em_chunks(documento)  # Divide o documento em chunks\n",
    "  embeddings_documento = []\n",
    "  for chunk in chunks:\n",
    "    embedding = genai.embed_content(model=embedding_model,\n",
    "                                    content=chunk,  # Usa o chunk em vez do documento inteiro\n",
    "                                    task_type=\"RETRIEVAL_DOCUMENT\")[\"embedding\"]\n",
    "    embeddings_documento.extend(embedding)  # Adiciona o embedding do chunk à lista\n",
    "  embeddings_documentos.append(embeddings_documento)  # Adiciona todos os embeddings do documento à lista principal"
   ]
  },
  {
   "cell_type": "markdown",
   "metadata": {
    "id": "23uqv-b9g4AJ"
   },
   "source": [
    "## 4. Função de Busca por Similaridade"
   ]
  },
  {
   "cell_type": "code",
   "execution_count": 6,
   "metadata": {
    "executionInfo": {
     "elapsed": 4,
     "status": "ok",
     "timestamp": 1732909457106,
     "user": {
      "displayName": "Alisson Frós",
      "userId": "17836051836238188094"
     },
     "user_tz": 180
    },
    "id": "T49-JIi_g9A7"
   },
   "outputs": [],
   "source": [
    "import numpy as np\n",
    "\n",
    "def buscar_documento(pergunta, embeddings_documentos, documentos):\n",
    "  \"\"\"\n",
    "  Busca o documento mais similar à pergunta usando embeddings.\n",
    "  \"\"\"\n",
    "  # Gera o embedding da pergunta usando Gemini\n",
    "  embedding_pergunta = genai.embed_content(model=embedding_model,\n",
    "                                           content=pergunta,\n",
    "                                           task_type=\"RETRIEVAL_QUERY\")[\"embedding\"]\n",
    "\n",
    "  # Calcula a similaridade cosseno entre a pergunta e os documentos\n",
    "  embedding_pergunta = np.array(embedding_pergunta)\n",
    "  similaridades = []\n",
    "  for documento_embeddings in embeddings_documentos:\n",
    "    documento_embeddings = np.array(documento_embeddings)\n",
    "\n",
    "    # Calculate average embedding if necessary\n",
    "    if len(documento_embeddings.shape) > 1 and documento_embeddings.shape[0] != 768:\n",
    "        documento_embeddings = np.mean(documento_embeddings, axis=0)\n",
    "\n",
    "    # Ensure document_embeddings has shape (1, 768) or (768,)\n",
    "    if documento_embeddings.shape != (768,) and documento_embeddings.shape != (1, 768):\n",
    "        print(\"Warning: Document embedding shape is not (768,) or (1, 768):\", documento_embeddings.shape)\n",
    "        # Handle the issue appropriately, e.g., by skipping the document or using a default similarity\n",
    "        continue  # Skip this document and continue with the next\n",
    "\n",
    "    # Reshape to (1, 768) if necessary to enable broadcasting\n",
    "    if documento_embeddings.shape == (768,):\n",
    "        documento_embeddings = documento_embeddings.reshape(1, -1)\n",
    "\n",
    "    # Calculate cosine similarity using broadcasting\n",
    "    similaridade = np.mean(np.sum(documento_embeddings * embedding_pergunta.reshape(1, -1), axis=1) / (np.linalg.norm(documento_embeddings, axis=1) * np.linalg.norm(embedding_pergunta)))\n",
    "    similaridades.append(similaridade)\n",
    "\n",
    "  # Encontra o índice do documento mais similar\n",
    "  # Return the first document if similaridades is empty to avoid the error\n",
    "  indice_documento_similar = np.argmax(similaridades) if similaridades else 0\n",
    "\n",
    "  # Retorna o documento mais similar\n",
    "  return documentos[indice_documento_similar]"
   ]
  },
  {
   "cell_type": "markdown",
   "metadata": {
    "id": "Wk20JIt1hAMD"
   },
   "source": [
    "## 5. Interação com o Chatbot"
   ]
  },
  {
   "cell_type": "code",
   "execution_count": null,
   "metadata": {
    "colab": {
     "background_save": true,
     "base_uri": "https://localhost:8080/",
     "height": 1000
    },
    "id": "cvJIActMhELS"
   },
   "outputs": [
    {
     "name": "stdout",
     "output_type": "stream",
     "text": [
      "Warning: Document embedding shape is not (768,) or (1, 768): (91392,)\n",
      "Resposta: As glosas que se referem à negociação de serviço são:\n",
      "\n",
      "* **Glosa: 022 – Negociação Serv. não permite solicitar serviços:**  Esta glosa indica que o prestador de serviço informado na solicitação não pode solicitar serviços, devido à configuração da negociação de serviço.\n",
      "\n",
      "* **Glosa: 023 – Negociação Serv. não permite solicitar serviços para Tipo Local:**  Esta glosa indica que o prestador de serviço informado não pode solicitar serviços para o tipo de local especificado, conforme a negociação de serviço.\n",
      "\n",
      "* **Glosa: 083 – Negociação Tab. Serv. para Contrato/Modelo não encontrada:** Esta glosa indica que não foi encontrada uma negociação de tabela de serviço vinculada ao contrato ou modelo de contrato do beneficiário.\n",
      "\n",
      "* **Glosa: 084 – Negociação Tab. Serv. para Prestador/ClPrestador não encontrada:** Esta glosa indica que não foi encontrada uma negociação de tabela de serviço vinculada ao prestador de serviço ou classe de prestador.\n",
      "\n",
      "* **Glosa: 113 – Item exige Indicação Clínica conforme Negociação Contratação Serviço:** Esta glosa indica que a negociação de contratação de serviço exige indicação clínica, mas esta não foi informada.\n",
      "\n",
      "* **Glosa: 114 – Revisão obrigatória para prestador de alto custo:** Esta glosa indica que a negociação de contratação de serviço exige revisão obrigatória para prestadores de alto custo.\n",
      "\n",
      "* **Glosa: 133 – Solicitação de Serviço necessita de revisão da operadora:** Esta glosa indica que a negociação de contratação de serviço exige revisão obrigatória.\n",
      "\n",
      "* **Glosa: 134 – Item exige CID conforme Negociação de Contratação de Serviço:** Esta glosa indica que a negociação de contratação de serviço exige CID, mas este não foi informado.\n",
      "\n",
      "* **Glosa: 146 – Negociação Reembolso para Classe Prestador não encontrada:** Esta glosa indica que não existe ou não está vigente uma negociação de reembolso para a classe do prestador de serviço.\n",
      "\n",
      "* **Glosa: 162 – Valores procedimentos solicitados > permitido Neg. Contr. Serviço:** Esta glosa indica que os valores dos procedimentos solicitados ultrapassam o limite permitido na negociação de contratação de serviço.\n",
      "\n",
      "* **Glosa: 170 – Item necessita pré-autorização:** Esta glosa indica que a negociação de contratação de serviço exige pré-autorização.\n",
      "\n",
      "* **Glosa: 172 – Negociação Contratação Serviço exige que seja informada solicitação:** Esta glosa indica que a negociação de contratação de serviço exige que seja informada a solicitação, mas esta não foi informada.\n",
      "\n",
      "* **Glosa: 177 – Negociação Serv. não permite Local Execução p/a Técnica Utilizada:** Esta glosa indica que a negociação de serviço não permite o local de execução para a técnica utilizada.\n",
      "\n",
      "* **Glosa: 259 – Solicitação de Serviço necessita de revisão da Contratante:** Esta glosa indica que a negociação de contratação de serviço da contratante exige revisão obrigatória.\n",
      "\n",
      "\n",
      "Estas glosas indicam problemas relacionados a parâmetros e configurações definidas nas negociações de serviços, tabelas e contratos.  A numeração das glosas pode variar dependendo da versão do sistema.\n",
      "\n",
      "Warning: Document embedding shape is not (768,) or (1, 768): (91392,)\n",
      "Resposta: Based on the provided document, the following glosas relate to financial aspects, either directly or indirectly impacting financial processing:\n",
      "\n",
      "\n",
      "**Directly related to financial aspects:**\n",
      "\n",
      "* **Glosa: 069 – Índice com valor zero:** This glosa flags issues with financial indices used in calculating payments and charges.  A zero or invalid index value prevents correct calculation.\n",
      "\n",
      "* **Glosa: 100 – Beneficiário inadimplente no atendimento:** This directly relates to the beneficiary's financial status; it flags if the beneficiary has outstanding financial documents at the time of service.\n",
      "\n",
      "* **Glosa: 145 – Emissão do reembolso maior que o limite negociado:** This glosa points to a financial discrepancy where the reimbursement exceeds the negotiated limit.\n",
      "\n",
      "* **Glosa: 146 – Negociação Reembolso para Classe Prestador não encontrada:** This glosa indicates a missing or invalid configuration for reimbursement negotiations, affecting payment processing.\n",
      "\n",
      "* **Glosa: 156 – Documento financeiro não encontrado:** This glosa directly flags a missing financial document, such as an invoice, which is crucial for payment.\n",
      "\n",
      "* **Glosa: 162 – Valores procedimentos solicitados > permitido Neg. Contr. Serviço:** This glosa indicates that the requested service values exceed the negotiated limits in the service contract, directly impacting payment.\n",
      "\n",
      "* **Glosa: 313 – Data de cobrança maior que a permitida na Negociação de Pagamento:** This glosa relates to the timeframe for billing, which is a critical financial parameter.\n",
      "\n",
      "* **Glosa: 357 – Composição não identificada no Pagamento e Cobrança Herda Valores:** This glosa highlights a problem with the composition of payment and billing values, particularly when one is supposed to inherit from the other.\n",
      "\n",
      "* **Glosa: 358 – Possível divergência de valor na composição:** This glosa flags potential discrepancies in the composition of payment and billing values, indicating a financial inconsistency that needs review.\n",
      "\n",
      "* **Glosa: 371 – Solicitação Intercâmbio sem valor OPME:** This glosa is triggered when there's a missing or zero value for OPME (material cost) in an interchange request, impacting financial calculations.\n",
      "\n",
      "* **Glosa: 374 – Item Glosado – Não existe valor negociado:** This glosa signals a missing negotiated value for a service, hindering financial processing.\n",
      "\n",
      "\n",
      "\n",
      "**Indirectly related to financial aspects (affecting processing and potentially payments):**\n",
      "\n",
      "Many glosas, while not directly about monetary values, can lead to financial implications by preventing or delaying payment.  These include glosas related to:\n",
      "\n",
      "* Invalid beneficiary data (e.g., missing card, rescinded contract)\n",
      "* Invalid service data (e.g., service not available, suspended service)\n",
      "* Missing or incorrect authorization data\n",
      "* Inconsistent data between the authorization and the event\n",
      "* Issues with the provider (e.g., provider suspended, provider not registered)\n",
      "\n",
      "\n",
      "These indirect financial glosas prevent proper claims processing and therefore can delay or prevent payment.  The impact is financial, even if the glosa itself isn't explicitly about money.\n",
      "\n"
     ]
    }
   ],
   "source": [
    "# Inicia o chat\n",
    "chat = model.start_chat(history=[])\n",
    "\n",
    "# Loop de interação\n",
    "while True:\n",
    "  # Obtém a pergunta do usuário\n",
    "  pergunta = input(\"Pergunta: \")\n",
    "\n",
    "  # Busca o documento mais similar\n",
    "  documento_similar = buscar_documento(pergunta, embeddings_documentos, documentos)\n",
    "\n",
    "  # Envia a pergunta e o documento para o Gemini\n",
    "  resposta = chat.send_message(f\"Pergunta: {pergunta}\\nContexto: {documento_similar}\")\n",
    "\n",
    "  # Exibe a resposta do Gemini\n",
    "  print(f\"Resposta: {resposta.text}\")\n",
    "\n",
    "  # Condição de parada\n",
    "  if pergunta.lower() == 'sair':\n",
    "    break"
   ]
  }
 ],
 "metadata": {
  "colab": {
   "collapsed_sections": [
    "5DnHT-AXieBN"
   ],
   "name": "",
   "provenance": [
    {
     "file_id": "https://github.com/anderoak/projeto_consultor_ai/blob/main/Consultor_AI_de_Documentos_PDF.ipynb",
     "timestamp": 1732245299825
    }
   ],
   "version": ""
  },
  "kernelspec": {
   "display_name": "Python 3",
   "name": "python3"
  },
  "language_info": {
   "name": "python"
  }
 },
 "nbformat": 4,
 "nbformat_minor": 0
}
